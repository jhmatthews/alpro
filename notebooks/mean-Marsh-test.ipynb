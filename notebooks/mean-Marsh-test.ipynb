{
 "cells": [
  {
   "cell_type": "code",
   "execution_count": 2,
   "metadata": {},
   "outputs": [],
   "source": [
    "%matplotlib inline\n",
    "import matplotlib.pyplot as plt \n",
    "import numpy as np \n",
    "import alpro \n",
    "alpro.util.set_default_plot_params(tex=True)"
   ]
  },
  {
   "cell_type": "markdown",
   "metadata": {},
   "source": [
    "### Cluster Survival Curves\n",
    "This notebook contains a few example plots from cluster models of the magnetic fields with ALP probabilities calculated from their profiles."
   ]
  },
  {
   "cell_type": "code",
   "execution_count": 3,
   "metadata": {},
   "outputs": [],
   "source": [
    "# load data from Marsh and Libanov codes \n",
    "import os\n",
    "folder = os.path.dirname(alpro.__file__)\n",
    "fname = \"{}/data/PE_mean_ma_13_g_12.3_mod.dat\".format(folder)\n",
    "E1, E2, Pmarsh, Ps = np.genfromtxt(fname, unpack=True)\n",
    "energies_marsh = 0.5 * (E2 + E1) * 1e3"
   ]
  },
  {
   "cell_type": "code",
   "execution_count": 4,
   "metadata": {},
   "outputs": [],
   "source": [
    "# initialise cluster models \n",
    "s1 = alpro.Survival(\"1275b\")\n",
    "s1.init_model()\n",
    "#s1.cluster.n25 *= FACTOR\n",
    "\n",
    "energies_marsh = 0.5 * (E2 + E1) * 1e3 \n",
    "energies = np.logspace(3,4,1000)\n",
    "# energies = np.linspace(1e3,1e4,1000)\n",
    "#energies = energies_marsh\n",
    "\n",
    "\n",
    "# set axion parameters\n",
    "g = (10.0**(-12.3)) * 1e-9   # 1e-12.3 GeV^-1\n",
    "#g = 5e-13\n",
    "mass = 1e-13       # 1e-13 eV\n",
    "s1.set_params(g, mass)\n",
    "\n",
    "# virial radius of 1.8 Mpc\n",
    "Lmax = 1800.0 \n",
    "\n",
    "# compute curves for different model instances\n",
    "N = 100\n",
    "nseeds = 2\n",
    "Ptot = np.zeros( (nseeds,N,len(energies)) )\n",
    "for seed in np.arange(N):\n",
    "    for nseed in range(nseeds):\n",
    "        P = s1.get_curve(energies,(nseed*100)+seed, Lmax, r0=10.0, cell_centered=True)\n",
    "        try_seed = (nseed*100)+seed\n",
    "        #while isinstance(P, type(None)):\n",
    "        #    try_seed += nseeds * N\n",
    "        #    P = s1.get_curve(energies,try_seed, Lmax, r0=10.0)\n",
    "            \n",
    "        #print (type (P))\n",
    "        Ptot[nseed,seed,:] = 1-P"
   ]
  },
  {
   "cell_type": "code",
   "execution_count": null,
   "metadata": {},
   "outputs": [],
   "source": [
    "# make plots \n",
    "energies_marsh = 0.5 * (E2 + E1) * 1e3\n",
    "#energies_marsh = E1 * 1e3\n",
    "\n",
    "#energies = energies/ (0.01790+1)\n",
    "for i in range(0,2):\n",
    "    P = Ptot[i,:,:]\n",
    "    mean_P = np.mean(P, axis=0)\n",
    "    plt.plot(energies/1e3, mean_P, lw=4, label=\"Perseus, seed {}\".format((1+i)*100))\n",
    "    sigma = np.std(P, axis=0)\n",
    "    plt.fill_between(energies/1e3, mean_P-sigma, mean_P+sigma, alpha=0.5)\n",
    "    \n",
    "#for i in range(100):\n",
    "#    plt.plot(energies/1e3, Ptot[1,i,:], lw=2, c=\"k\", ls=\"-\", alpha=0.3)\n",
    "\n",
    "#plt.plot(energies/1e3, Ptot[1,10,:], lw=2, c=\"k\", ls=\":\", label=\"1821, Realisation 1\")\n",
    "#plt.plot(energies/1e3, Ptot[1,20,:], lw=2, c=\"k\", ls=\"--\", label=\"1821, Realisation 2\")\n",
    "plt.plot(energies_marsh/1e3, Pmarsh, label=\"Marsh\")\n",
    "plt.fill_between(energies_marsh/1e3, Pmarsh-Ps, Pmarsh+Ps, alpha=0.5)\n",
    "\n",
    "plt.xlabel(\"$E$ (keV)\", fontsize=16)\n",
    "plt.ylabel(\"$P_{\\gamma->\\gamma}$\", fontsize=16)\n",
    "plt.legend()\n",
    "plt.title(r\"Mean and $\\sigma$ of $P_{{\\gamma->\\gamma}}$, m={}, g={:.2e}\".format(mass, g/1e-9))\n",
    "plt.xlim(1,9)\n",
    "plt.ylim(0.95,1.0)\n",
    "plt.semilogx()\n",
    "#plt.semilogy()\n",
    "plt.savefig(\"perseus-mean-test.png\", dpi=100)"
   ]
  },
  {
   "cell_type": "code",
   "execution_count": null,
   "metadata": {},
   "outputs": [],
   "source": [
    "P, profile = s1.get_curve(energies, 50, Lmax, r0=0.0, radial_profile=True)\n",
    "\n",
    "plt.semilogy()\n",
    "plt.pcolormesh(s1.domain.r, energies/1e3, profile.T)\n",
    "plt.colorbar()\n",
    "# print (s1.domain.B, s1.domain.r)\n",
    "\n",
    "plt.figure()\n",
    "plt.plot(s1.domain.r, s1.domain.B)\n",
    "plt.plot(s1.domain.r, s1.domain.phi)"
   ]
  },
  {
   "cell_type": "code",
   "execution_count": null,
   "metadata": {},
   "outputs": [],
   "source": [
    "from scipy.interpolate import interp1d \n",
    "fmarsh = interp1d(energies_marsh, Pmarsh, fill_value=\"extrapolate\")\n",
    "plt.plot(energies/1e3, (1-mean_P)/(1-fmarsh(energies)))\n",
    "marsh_bins = energies_marsh[1:] - energies_marsh[:-1]\n",
    "plt.plot(energies_marsh[1:]/1e3, marsh_bins/1e3)\n",
    "plt.semilogy()"
   ]
  },
  {
   "cell_type": "code",
   "execution_count": null,
   "metadata": {},
   "outputs": [],
   "source": [
    "P, profile = s1.get_curve(energies, 100, Lmax, r0=0.0, radial_profile=True)\n",
    "\n",
    "N = len(energies)//2\n",
    "#plt.semilogy()\n",
    "plt.plot(s1.domain.r, 1-profile[:,N])\n",
    "\n",
    "print (s1.domain.deltaL)\n",
    "# plt.colorbar()\n",
    "# print (s1.domain.B, s1.domain.r)\n",
    "\n",
    "# plt.figure()\n",
    "#plt.plot(s1.domain.r, s1.domain.B)\n",
    "#plt.plot(s1.domain.r, s1.domain.phi)"
   ]
  },
  {
   "cell_type": "code",
   "execution_count": null,
   "metadata": {},
   "outputs": [],
   "source": [
    "x = np.zeros((10,3), dtype=np.complex128)\n",
    "x[:,1] = 1.0\n",
    "print (x.dtype == np.complex)\n",
    "print (x.dtype == np.float)\n",
    "\n",
    "x = np.zeros((10,3))\n",
    "x[:,1] = 1.0\n",
    "print (x.dtype == np.complex)\n",
    "print (x.dtype == np.float)\n",
    "\n",
    "x = x + 0.0j\n",
    "print (x.dtype == np.complex)\n",
    "print (x.dtype == np.float)\n",
    "print (x.dtype)"
   ]
  },
  {
   "cell_type": "code",
   "execution_count": null,
   "metadata": {},
   "outputs": [],
   "source": []
  }
 ],
 "metadata": {
  "kernelspec": {
   "display_name": "Python 3",
   "language": "python",
   "name": "python3"
  },
  "language_info": {
   "codemirror_mode": {
    "name": "ipython",
    "version": 3
   },
   "file_extension": ".py",
   "mimetype": "text/x-python",
   "name": "python",
   "nbconvert_exporter": "python",
   "pygments_lexer": "ipython3",
   "version": "3.7.4"
  }
 },
 "nbformat": 4,
 "nbformat_minor": 2
}
