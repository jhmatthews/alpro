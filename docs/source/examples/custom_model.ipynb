{
 "cells": [
  {
   "cell_type": "markdown",
   "metadata": {},
   "source": [
    "# Setting up a custom model\n",
    "In principle, any custom model can be used in ALPro. This tutorial allows shows how to set up a model with any given profile of magnetic field and density without using ALPro's inbuilt models. "
   ]
  },
  {
   "cell_type": "code",
   "execution_count": 1,
   "metadata": {},
   "outputs": [],
   "source": [
    "%matplotlib inline\n",
    "import matplotlib.pyplot as plt \n",
    "import numpy as np \n",
    "import alpro "
   ]
  },
  {
   "cell_type": "code",
   "execution_count": null,
   "metadata": {},
   "outputs": [],
   "source": [
    "s = alpro.Survival()"
   ]
  },
  {
   "cell_type": "markdown",
   "metadata": {},
   "source": []
  },
  {
   "cell_type": "code",
   "execution_count": 6,
   "metadata": {},
   "outputs": [],
   "source": [
    "class unit:\n",
    "    '''\n",
    "    class containing some units. Should probably use astropy units \n",
    "    but I find them a bit annoying.\n",
    "    '''\n",
    "    @classmethod\n",
    "    def __init__(self):\n",
    "        self.kpc = 3.0857e21\n",
    "        self.pc = 3.0857e18\n",
    "        self.c = 2.997925e10\n",
    "        self.yr = 3.1556925e7\n",
    "        self.myr = 3.1556925e13\n",
    "        self.kyr = 3.1556925e10\n",
    "        self.radian = 57.29577951308232\n",
    "        self.msol = 1.989e33\n",
    "        self.mprot = 1.672661e-24\n",
    "        self.melec = 9.10938356e-28\n",
    "        self.melec_csq = self.melec * self.c * self.c\n",
    "        self.mprot_csq = self.mprot * self.c * self.c\n",
    "        self.e = 4.8032045057134676e-10     # fundamental charge \n",
    "        self.kev = 1.602192e-9  # kilo electron volts in CGS\n",
    "        self.ev = 1.602192e-12  # electron volts in CGS\n",
    "        self.kb = 1.38062e-16   # boltzmann \n",
    "        self.h = 6.6262e-27     # plank \n",
    "        self.hbar = self.h / np.pi / np.pi \n",
    "        self.hbar_ev = 6.582119569e-16     \n",
    "        self.g = 6.670e-8       # gravitational \n",
    "        self.hbar_c = self.hbar * self.c\n",
    "        self.alpha = self.e * self.e / self.hbar_c\n",
    "        self.thomson = 0.66524e-24\n",
    "        self.unit_gauss_natural = 0.01953548032\n",
    "        self.unit_length_natural = 50676.79373667135\n",
    "\n",
    "# class to use for units\n",
    "#unit = units()"
   ]
  },
  {
   "cell_type": "markdown",
   "metadata": {},
   "source": []
  },
  {
   "cell_type": "code",
   "execution_count": 7,
   "metadata": {
    "scrolled": true
   },
   "outputs": [
    {
     "ename": "AttributeError",
     "evalue": "type object 'unit' has no attribute 'e'",
     "output_type": "error",
     "traceback": [
      "\u001b[0;31m---------------------------------------------------------------------------\u001b[0m",
      "\u001b[0;31mAttributeError\u001b[0m                            Traceback (most recent call last)",
      "\u001b[0;32m<ipython-input-7-c85d4ebd3bee>\u001b[0m in \u001b[0;36m<module>\u001b[0;34m\u001b[0m\n\u001b[0;32m----> 1\u001b[0;31m \u001b[0mprint\u001b[0m \u001b[0;34m(\u001b[0m\u001b[0munit\u001b[0m\u001b[0;34m.\u001b[0m\u001b[0me\u001b[0m\u001b[0;34m)\u001b[0m\u001b[0;34m\u001b[0m\u001b[0;34m\u001b[0m\u001b[0m\n\u001b[0m",
      "\u001b[0;31mAttributeError\u001b[0m: type object 'unit' has no attribute 'e'"
     ]
    }
   ],
   "source": [
    "print (unit.e)"
   ]
  },
  {
   "cell_type": "markdown",
   "metadata": {},
   "source": []
  },
  {
   "cell_type": "code",
   "execution_count": null,
   "metadata": {},
   "outputs": [],
   "source": []
  },
  {
   "cell_type": "markdown",
   "metadata": {},
   "source": []
  },
  {
   "cell_type": "code",
   "execution_count": null,
   "metadata": {},
   "outputs": [],
   "source": []
  },
  {
   "cell_type": "code",
   "execution_count": null,
   "metadata": {},
   "outputs": [],
   "source": []
  },
  {
   "cell_type": "code",
   "execution_count": null,
   "metadata": {},
   "outputs": [],
   "source": []
  },
  {
   "cell_type": "code",
   "execution_count": null,
   "metadata": {},
   "outputs": [],
   "source": []
  },
  {
   "cell_type": "code",
   "execution_count": null,
   "metadata": {},
   "outputs": [],
   "source": []
  },
  {
   "cell_type": "code",
   "execution_count": null,
   "metadata": {},
   "outputs": [],
   "source": []
  },
  {
   "cell_type": "code",
   "execution_count": null,
   "metadata": {},
   "outputs": [],
   "source": []
  },
  {
   "cell_type": "code",
   "execution_count": null,
   "metadata": {},
   "outputs": [],
   "source": []
  },
  {
   "cell_type": "code",
   "execution_count": null,
   "metadata": {},
   "outputs": [],
   "source": []
  },
  {
   "cell_type": "code",
   "execution_count": null,
   "metadata": {},
   "outputs": [],
   "source": []
  },
  {
   "cell_type": "code",
   "execution_count": null,
   "metadata": {},
   "outputs": [],
   "source": []
  },
  {
   "cell_type": "code",
   "execution_count": null,
   "metadata": {},
   "outputs": [],
   "source": []
  },
  {
   "cell_type": "code",
   "execution_count": null,
   "metadata": {},
   "outputs": [],
   "source": []
  },
  {
   "cell_type": "code",
   "execution_count": null,
   "metadata": {},
   "outputs": [],
   "source": []
  }
 ],
 "metadata": {
  "kernelspec": {
   "display_name": "Python 3",
   "language": "python",
   "name": "python3"
  },
  "language_info": {
   "codemirror_mode": {
    "name": "ipython",
    "version": 3
   },
   "file_extension": ".py",
   "mimetype": "text/x-python",
   "name": "python",
   "nbconvert_exporter": "python",
   "pygments_lexer": "ipython3",
   "version": "3.7.4"
  }
 },
 "nbformat": 4,
 "nbformat_minor": 2
}
