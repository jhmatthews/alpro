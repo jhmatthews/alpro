{
 "cells": [
  {
   "cell_type": "markdown",
   "metadata": {},
   "source": [
    "# JIT and parallelisation\n",
    "\n",
    "**To do: Include a tutorial explaining how to use parallelisation routine here.**"
   ]
  },
  {
   "cell_type": "code",
   "execution_count": 1,
   "metadata": {},
   "outputs": [],
   "source": [
    "%matplotlib inline\n",
    "import matplotlib.pyplot as plt \n",
    "import numpy as np \n",
    "import alpro \n",
    "import time"
   ]
  },
  {
   "cell_type": "code",
   "execution_count": 2,
   "metadata": {
    "tags": [
     "nbsphinx-thumbnail"
    ]
   },
   "outputs": [
    {
     "name": "stdout",
     "output_type": "stream",
     "text": [
      "time: 3.0748517513275146\n",
      "time: 0.1128389835357666\n"
     ]
    }
   ],
   "source": [
    "s = alpro.Survival(\"1275b\")\n",
    "s.init_model()\n",
    "s.set_params(1e-12 * 1e-9, 1e-13)\n",
    "s.domain.create_box_array(1800, 0, s.coherence_func, r0=0)\n",
    "energies = np.logspace(3,4,1000)\n",
    "t1 = time.time()\n",
    "\n",
    "for n in range(2):\n",
    "    t1 = time.time()\n",
    "    P, Pradial = s.propagate(s.domain, energies, pol=\"both\")\n",
    "    print (\"time:\", time.time() - t1)"
   ]
  },
  {
   "cell_type": "code",
   "execution_count": 5,
   "metadata": {},
   "outputs": [
    {
     "name": "stdout",
     "output_type": "stream",
     "text": [
      "This is thread 0 calculating models 0 to 9, total 10\n",
      "Waiting for other threads to finish...\n",
      "Thread 0 took 1.1603872776031494 seconds to calculate 10 models\n"
     ]
    },
    {
     "data": {
      "text/plain": [
       "1.1603872776031494"
      ]
     },
     "execution_count": 5,
     "metadata": {},
     "output_type": "execute_result"
    }
   ],
   "source": [
    "def my_calculation(i):\n",
    "    s = alpro.Survival(\"1275b\")\n",
    "    s.init_model()\n",
    "    s.set_params(1e-12 * 1e-9, 1e-13)\n",
    "    s.domain.create_box_array(1800, 0, s.coherence_func, r0=0)\n",
    "    s.propagate(s.domain, energies, pol=\"both\")\n",
    "\n",
    "import alpro.parallel as parallel \n",
    "iterable = range(0,10)\n",
    "parallel.run(my_calculation, iterable)"
   ]
  },
  {
   "cell_type": "code",
   "execution_count": null,
   "metadata": {},
   "outputs": [],
   "source": []
  }
 ],
 "metadata": {
  "celltoolbar": "Tags",
  "kernelspec": {
   "display_name": "Python 3",
   "language": "python",
   "name": "python3"
  },
  "language_info": {
   "codemirror_mode": {
    "name": "ipython",
    "version": 3
   },
   "file_extension": ".py",
   "mimetype": "text/x-python",
   "name": "python",
   "nbconvert_exporter": "python",
   "pygments_lexer": "ipython3",
   "version": "3.7.4"
  }
 },
 "nbformat": 4,
 "nbformat_minor": 2
}
