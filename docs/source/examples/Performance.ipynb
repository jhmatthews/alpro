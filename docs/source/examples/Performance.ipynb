{
 "cells": [
  {
   "cell_type": "markdown",
   "metadata": {},
   "source": [
    "# Performance, and using JIT "
   ]
  },
  {
   "cell_type": "code",
   "execution_count": 1,
   "metadata": {},
   "outputs": [],
   "source": [
    "%matplotlib inline\n",
    "import matplotlib.pyplot as plt \n",
    "import numpy as np \n",
    "import alpro \n",
    "import time"
   ]
  },
  {
   "cell_type": "code",
   "execution_count": 2,
   "metadata": {},
   "outputs": [
    {
     "name": "stdout",
     "output_type": "stream",
     "text": [
      "c 0.08486390113830566\n",
      "numba 3.0036709308624268\n",
      "numba 0.11480879783630371\n"
     ]
    }
   ],
   "source": [
    "imp = [\"c\", \"numba\", \"numba\"]\n",
    "\n",
    "for implementation in imp:\n",
    "\n",
    "    s = alpro.Survival(\"1275b\", implementation = implementation)\n",
    "    s.init_model()\n",
    "    s.set_params(1e-12 * 1e-9, 1e-13)\n",
    "    s.domain.create_box_array(1800, 0, s.coherence_func, r0=0)\n",
    "    energies = np.logspace(3,4,1000)\n",
    "    t1 = time.time()\n",
    "    P, Pradial = s.propagate(s.domain, energies, pol=\"both\")\n",
    "    print (implementation, time.time() - t1)"
   ]
  },
  {
   "cell_type": "code",
   "execution_count": null,
   "metadata": {},
   "outputs": [],
   "source": []
  }
 ],
 "metadata": {
  "kernelspec": {
   "display_name": "Python 3",
   "language": "python",
   "name": "python3"
  },
  "language_info": {
   "codemirror_mode": {
    "name": "ipython",
    "version": 3
   },
   "file_extension": ".py",
   "mimetype": "text/x-python",
   "name": "python",
   "nbconvert_exporter": "python",
   "pygments_lexer": "ipython3",
   "version": "3.7.4"
  }
 },
 "nbformat": 4,
 "nbformat_minor": 2
}
